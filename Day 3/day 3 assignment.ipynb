{
 "cells": [
  {
   "cell_type": "markdown",
   "metadata": {},
   "source": [
    "# Question 1"
   ]
  },
  {
   "cell_type": "code",
   "execution_count": 3,
   "metadata": {},
   "outputs": [
    {
     "name": "stdout",
     "output_type": "stream",
     "text": [
      "Subtraction of two complex number--> (-3+2j)\n"
     ]
    }
   ],
   "source": [
    "complexno = 2 + 4j\n",
    "complexno1 = 5 + 2j\n",
    "print('Subtraction of two complex number-->', complexno - complexno1)"
   ]
  },
  {
   "cell_type": "markdown",
   "metadata": {},
   "source": [
    "# Question 2"
   ]
  },
  {
   "cell_type": "code",
   "execution_count": 8,
   "metadata": {},
   "outputs": [
    {
     "name": "stdout",
     "output_type": "stream",
     "text": [
      "5\n",
      "1.4953487812212205\n"
     ]
    }
   ],
   "source": [
    "num_1 = int(input())\n",
    "fourth_root = (num_1)**(1/4)\n",
    "print(float(fourth_root))"
   ]
  },
  {
   "cell_type": "markdown",
   "metadata": {},
   "source": [
    "# Quetion 3"
   ]
  },
  {
   "cell_type": "code",
   "execution_count": 10,
   "metadata": {},
   "outputs": [
    {
     "name": "stdout",
     "output_type": "stream",
     "text": [
      "5 4\n"
     ]
    }
   ],
   "source": [
    "a=4\n",
    "b=5\n",
    "temp =a \n",
    "a =b\n",
    "b= temp\n",
    "print(a,b)"
   ]
  },
  {
   "cell_type": "markdown",
   "metadata": {},
   "source": [
    "# Question 4"
   ]
  },
  {
   "cell_type": "code",
   "execution_count": 11,
   "metadata": {},
   "outputs": [
    {
     "name": "stdout",
     "output_type": "stream",
     "text": [
      "6 5\n"
     ]
    }
   ],
   "source": [
    "a=5\n",
    "b=6\n",
    "a,b= b,a\n",
    "print(a,b)"
   ]
  },
  {
   "cell_type": "markdown",
   "metadata": {},
   "source": [
    "# question 5"
   ]
  },
  {
   "cell_type": "code",
   "execution_count": 13,
   "metadata": {},
   "outputs": [
    {
     "name": "stdout",
     "output_type": "stream",
     "text": [
      "254.24\n",
      "396.9666666666667 123.46666666666668\n"
     ]
    }
   ],
   "source": [
    "fahrenheit =float(input())\n",
    "kelvin =273.5 + ((fahrenheit - 32.0) * (5.0/9.0))\n",
    "celsius = (fahrenheit - 32) * (5.0/9.0)\n",
    "print(kelvin,celsius)"
   ]
  },
  {
   "cell_type": "markdown",
   "metadata": {},
   "source": [
    "# Question 6"
   ]
  },
  {
   "cell_type": "code",
   "execution_count": 23,
   "metadata": {},
   "outputs": [
    {
     "name": "stdout",
     "output_type": "stream",
     "text": [
      "<class 'int'> <class 'str'> <class 'float'> <class 'complex'> <class 'str'>\n"
     ]
    }
   ],
   "source": [
    "a=1\n",
    "b=\"anbdsd\"\n",
    "c=1.335\n",
    "d=4+5j\n",
    "f=\"True\"\n",
    "print(type(a),type(b),type(c),type(d),type(f))"
   ]
  },
  {
   "cell_type": "markdown",
   "metadata": {},
   "source": [
    "# Question 7"
   ]
  },
  {
   "cell_type": "markdown",
   "metadata": {},
   "source": [
    "##  Step 1: Create github acount using your personal email id\n",
    "\n",
    "## Step 2: Create repository with name \"LetsUprade-AI-ML\n",
    "\n",
    "## Step 3: Upload program file in that repository\n",
    "\n",
    "## Step 4: Copy link of the file uploaded in github repository and share in google forms"
   ]
  },
  {
   "cell_type": "code",
   "execution_count": null,
   "metadata": {},
   "outputs": [],
   "source": []
  }
 ],
 "metadata": {
  "kernelspec": {
   "display_name": "Python 3",
   "language": "python",
   "name": "python3"
  },
  "language_info": {
   "codemirror_mode": {
    "name": "ipython",
    "version": 3
   },
   "file_extension": ".py",
   "mimetype": "text/x-python",
   "name": "python",
   "nbconvert_exporter": "python",
   "pygments_lexer": "ipython3",
   "version": "3.7.2"
  }
 },
 "nbformat": 4,
 "nbformat_minor": 4
}
