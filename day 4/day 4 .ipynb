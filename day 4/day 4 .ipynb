{
 "cells": [
  {
   "cell_type": "markdown",
   "metadata": {},
   "source": [
    "# Question 1"
   ]
  },
  {
   "cell_type": "code",
   "execution_count": 7,
   "metadata": {},
   "outputs": [
    {
     "name": "stdout",
     "output_type": "stream",
     "text": [
      "addition--> (7+9j)\n",
      "multipliction--> (-8+31j)\n",
      "division--> (0.7804878048780489+0.02439024390243905j)\n",
      "subtraction--> (-1-1j)\n"
     ]
    }
   ],
   "source": [
    "c_1 = 3+4j\n",
    "c_2 = 4+5j\n",
    "\n",
    "# addition\n",
    "\n",
    "sum_complex = c_1 +c_2\n",
    "print(\"addition-->\",sum_complex)\n",
    "\n",
    "# multiplication\n",
    "\n",
    "multi_compliex =c_1*c_2\n",
    "print(\"multipliction-->\",multi_compliex)\n",
    "\n",
    "# division\n",
    "\n",
    "div_complex = (c_1)/(c_2)\n",
    "print(\"division-->\",div_complex)\n",
    "\n",
    "# subtraction \n",
    "\n",
    "sub_complex = c_1 - c_2\n",
    "print(\"subtraction-->\",sub_complex)\n",
    "\n",
    "# floor division is not supported by complex numbers\n",
    "\n",
    "#modulo operation in complex numbers is not supported\n",
    "\n"
   ]
  },
  {
   "cell_type": "markdown",
   "metadata": {},
   "source": [
    "# Question 2\n",
    "\n",
    "# range():\n",
    "\n",
    "## range(start,stop,step):\n",
    "\n",
    "### start:start is used for starting of the iteration\n",
    "### stop :stop is used for ending the loop(it is not included)\n",
    "### step :step is used for increasing the value or decreasing the value with the range in form of iterations"
   ]
  },
  {
   "cell_type": "code",
   "execution_count": 15,
   "metadata": {},
   "outputs": [
    {
     "name": "stdout",
     "output_type": "stream",
     "text": [
      "1\n",
      "3\n",
      "5\n",
      "7\n",
      "9\n",
      "11\n",
      "13\n",
      "15\n",
      "17\n",
      "19\n"
     ]
    }
   ],
   "source": [
    "for i in range(1,20,2):\n",
    "    print(i)"
   ]
  },
  {
   "cell_type": "markdown",
   "metadata": {},
   "source": [
    "# Question 3"
   ]
  },
  {
   "cell_type": "code",
   "execution_count": 18,
   "metadata": {},
   "outputs": [
    {
     "name": "stdout",
     "output_type": "stream",
     "text": [
      "45\n",
      "34\n",
      "1.3235294117647058\n"
     ]
    }
   ],
   "source": [
    "a_1 = int(input())\n",
    "b_1 = int(input())\n",
    "subtraction = (a_1)-(b_1)\n",
    "if subtraction>25:\n",
    "    print(a_1*b_1)\n",
    "else:\n",
    "    print(a_1/b_1)"
   ]
  },
  {
   "cell_type": "markdown",
   "metadata": {},
   "source": [
    "# Question 4\n"
   ]
  },
  {
   "cell_type": "code",
   "execution_count": 20,
   "metadata": {},
   "outputs": [
    {
     "name": "stdout",
     "output_type": "stream",
     "text": [
      "2\n",
      "3134\n",
      "5774\n",
      "9602\n",
      "1022\n"
     ]
    }
   ],
   "source": [
    "list_1 = [1,2,43,56,41,76,55,98,21,32]\n",
    "for i in list_1:\n",
    "    if i%2 == 0:\n",
    "        print(i*i-2)"
   ]
  },
  {
   "cell_type": "markdown",
   "metadata": {},
   "source": [
    "# Question 5"
   ]
  },
  {
   "cell_type": "code",
   "execution_count": 21,
   "metadata": {},
   "outputs": [
    {
     "name": "stdout",
     "output_type": "stream",
     "text": [
      "43\n",
      "56\n",
      "41\n",
      "76\n",
      "55\n",
      "98\n",
      "21\n",
      "32\n"
     ]
    }
   ],
   "source": [
    "list_1 = [1,2,43,56,41,76,55,98,21,32]\n",
    "for i in list_1:\n",
    "    if i/2 >7:\n",
    "        print(i)"
   ]
  },
  {
   "cell_type": "code",
   "execution_count": null,
   "metadata": {},
   "outputs": [],
   "source": []
  }
 ],
 "metadata": {
  "kernelspec": {
   "display_name": "Python 3",
   "language": "python",
   "name": "python3"
  },
  "language_info": {
   "codemirror_mode": {
    "name": "ipython",
    "version": 3
   },
   "file_extension": ".py",
   "mimetype": "text/x-python",
   "name": "python",
   "nbconvert_exporter": "python",
   "pygments_lexer": "ipython3",
   "version": "3.7.2"
  },
  "toc": {
   "base_numbering": 1,
   "nav_menu": {},
   "number_sections": true,
   "sideBar": true,
   "skip_h1_title": false,
   "title_cell": "Table of Contents",
   "title_sidebar": "Contents",
   "toc_cell": false,
   "toc_position": {},
   "toc_section_display": true,
   "toc_window_display": false
  }
 },
 "nbformat": 4,
 "nbformat_minor": 4
}
